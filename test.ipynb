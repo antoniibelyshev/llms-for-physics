{
 "cells": [
  {
   "cell_type": "code",
   "id": "initial_id",
   "metadata": {
    "collapsed": true,
    "ExecuteTime": {
     "end_time": "2024-06-19T11:01:53.002878Z",
     "start_time": "2024-06-19T11:01:52.994389Z"
    }
   },
   "source": [
    "import torch\n",
    "from scripts.fit import fit"
   ],
   "outputs": [],
   "execution_count": 3
  },
  {
   "metadata": {
    "ExecuteTime": {
     "end_time": "2024-06-19T10:56:23.836765Z",
     "start_time": "2024-06-19T10:56:23.139828Z"
    }
   },
   "cell_type": "code",
   "source": "from scripts.prompt import gen_prompt_head",
   "id": "bcf98ee5a8482de6",
   "outputs": [],
   "execution_count": 1
  },
  {
   "metadata": {
    "ExecuteTime": {
     "end_time": "2024-06-19T11:03:01.168536Z",
     "start_time": "2024-06-19T11:03:01.149040Z"
    }
   },
   "cell_type": "code",
   "source": [
    "system_name = 'pendulum'\n",
    "system_description = 'Pendulum is a massive object attached to a rope and making periodic motion in a gravity field.'\n",
    "data_description = 'The states of pendulum are described by angle and angular velocity, so each states tensor x has shape (nx2), where n is the number of observations. The forward method should predict the state of the pendulum after some time from the given state, so the expected output\\'s y shape is (nx2).'\n",
    "\n",
    "t = torch.linspace(0, 10, 1000)\n",
    "x = torch.stack((torch.sin(2 * t), 2 * torch.cos(2 * t)), dim=1)\n",
    "y = x[1:]\n",
    "x = x[:-1]\n",
    "t = t[:-1]\n",
    "example_data = x[:5], y[:5]\n",
    "\n",
    "print(gen_prompt_head(system_name, system_description, data_description, example_data))"
   ],
   "id": "f23cdfd587b4f253",
   "outputs": [
    {
     "name": "stdout",
     "output_type": "stream",
     "text": [
      "Write a torch class describing pendulum.\n",
      " Pendulum is a massive object attached to a rope and making periodic motion in a gravity field..Return ONLY the code of the class.\n",
      "The class initialises learnable parameters, such as length of a pendulum of Jung modulus of material.It also implements forward method which predicts states pass some fixed time given the current state.\n",
      "The states of pendulum are described by angle and angular velocity, so each states tensor x has shape (nx2), where n is the number of observations. The forward method should predict the state of the pendulum after some time from the given state, so the expected output's y shape is (nx2).\n",
      "Here is an example of input for the forward method: tensor([[0.0000, 2.0000],\n",
      "        [0.0200, 1.9996],\n",
      "        [0.0400, 1.9984],\n",
      "        [0.0600, 1.9964],\n",
      "        [0.0800, 1.9936]]), and expected output: tensor([[0.0200, 1.9996],\n",
      "        [0.0400, 1.9984],\n",
      "        [0.0600, 1.9964],\n",
      "        [0.0800, 1.9936],\n",
      "        [0.0999, 1.9900]]).\n",
      "Here are examples of how your answer could look like:\n",
      "\n"
     ]
    }
   ],
   "execution_count": 10
  },
  {
   "metadata": {
    "ExecuteTime": {
     "end_time": "2024-06-19T11:01:54.022839Z",
     "start_time": "2024-06-19T11:01:53.962056Z"
    }
   },
   "cell_type": "code",
   "source": [
    "\n",
    "\n"
   ],
   "id": "a77e64ce32fa0f21",
   "outputs": [],
   "execution_count": 4
  },
  {
   "metadata": {
    "ExecuteTime": {
     "end_time": "2024-06-18T16:58:54.021372Z",
     "start_time": "2024-06-18T16:58:52.032191Z"
    }
   },
   "cell_type": "code",
   "source": [
    "model_definition = \"\"\"class Physics(nn.Module):\n",
    "    def __init__(self):\n",
    "        super(Physics, self).__init__()\n",
    "        \n",
    "        self.omega = nn.Parameter(torch.randn(1), requires_grad=True)\n",
    "        self.dt = nn.Parameter(torch.randn(1), requires_grad=True)\n",
    "        \n",
    "    def forward(self, states):\n",
    "        dphi = self.omega * self.dt\n",
    "        x = torch.cos(dphi) * states[..., 0] + torch.sin(dphi) / self.omega * states[..., 1]\n",
    "        v = -torch.sin(dphi) * self.omega * states[..., 0] + torch.cos(dphi) * states[..., 1]\n",
    "        \n",
    "        return torch.stack((x, v), dim=-1)\"\"\"\n",
    "\n",
    "model, loss = fit(model_definition, x, y, optim_defaults={'lr': 1e-2})\n",
    "loss"
   ],
   "id": "64c77ccef3977d16",
   "outputs": [
    {
     "name": "stderr",
     "output_type": "stream",
     "text": [
      "100%|██████████| 100/100 [00:01<00:00, 50.62it/s] \n"
     ]
    },
    {
     "data": {
      "text/plain": [
       "2.0795484445557122e-08"
      ]
     },
     "execution_count": 53,
     "metadata": {},
     "output_type": "execute_result"
    }
   ],
   "execution_count": 53
  },
  {
   "metadata": {
    "ExecuteTime": {
     "end_time": "2024-06-18T16:58:54.028359Z",
     "start_time": "2024-06-18T16:58:54.022975Z"
    }
   },
   "cell_type": "code",
   "source": "model.dt",
   "id": "1335bf33067e2231",
   "outputs": [
    {
     "data": {
      "text/plain": [
       "Parameter containing:\n",
       "tensor([0.0101], requires_grad=True)"
      ]
     },
     "execution_count": 54,
     "metadata": {},
     "output_type": "execute_result"
    }
   ],
   "execution_count": 54
  },
  {
   "metadata": {
    "ExecuteTime": {
     "end_time": "2024-06-18T16:58:54.098946Z",
     "start_time": "2024-06-18T16:58:54.030156Z"
    }
   },
   "cell_type": "code",
   "source": "model.omega",
   "id": "45090bb2726bcf6b",
   "outputs": [
    {
     "data": {
      "text/plain": [
       "Parameter containing:\n",
       "tensor([-1.9841], requires_grad=True)"
      ]
     },
     "execution_count": 55,
     "metadata": {},
     "output_type": "execute_result"
    }
   ],
   "execution_count": 55
  },
  {
   "metadata": {
    "ExecuteTime": {
     "end_time": "2024-06-18T16:40:14.050692Z",
     "start_time": "2024-06-18T16:40:13.594577Z"
    }
   },
   "cell_type": "code",
   "source": "import matplotlib.pyplot as plt",
   "id": "e37e75c99d6c681b",
   "outputs": [],
   "execution_count": 11
  },
  {
   "metadata": {
    "ExecuteTime": {
     "end_time": "2024-06-18T16:43:19.784492Z",
     "start_time": "2024-06-18T16:43:19.584616Z"
    }
   },
   "cell_type": "code",
   "source": [
    "# plt.scatter(t, x[:, 0], s=1)\n",
    "# plt.scatter(t, x[:, 1], s=1)\n",
    "\n",
    "plt.scatter(t, y[:, 0], s=1)\n",
    "plt.scatter(t, y[:, 1], s=1)\n",
    "\n",
    "plt.scatter(t, model(x)[:, 0].detach(), s=1)\n",
    "plt.scatter(t, model(x)[:, 1].detach(), s=1)"
   ],
   "id": "86726ada0f5a656b",
   "outputs": [
    {
     "data": {
      "text/plain": [
       "<matplotlib.collections.PathCollection at 0x7f600419fac0>"
      ]
     },
     "execution_count": 18,
     "metadata": {},
     "output_type": "execute_result"
    },
    {
     "data": {
      "text/plain": [
       "<Figure size 640x480 with 1 Axes>"
      ],
      "image/png": "[encoded data removed]"
     },
     "metadata": {},
     "output_type": "display_data"
    }
   ],
   "execution_count": 18
  },
  {
   "metadata": {
    "ExecuteTime": {
     "end_time": "2024-06-18T15:16:04.663542Z",
     "start_time": "2024-06-18T15:16:04.649834Z"
    }
   },
   "cell_type": "code",
   "source": [
    "import torch.nn as nn\n",
    "exec(model_definition)"
   ],
   "id": "d698c97030d016e0",
   "outputs": [],
   "execution_count": 6
  },
  {
   "metadata": {
    "ExecuteTime": {
     "end_time": "2024-06-18T15:16:13.755026Z",
     "start_time": "2024-06-18T15:16:13.742741Z"
    }
   },
   "cell_type": "code",
   "source": "model = Physics()",
   "id": "19dbdf96d011ce45",
   "outputs": [],
   "execution_count": 8
  },
  {
   "metadata": {
    "ExecuteTime": {
     "end_time": "2024-06-18T15:17:06.582209Z",
     "start_time": "2024-06-18T15:17:06.573705Z"
    }
   },
   "cell_type": "code",
   "source": [
    "dphi = model.dt * model.omega\n",
    "multiplier = torch.tensor([[torch.cos(dphi), -torch.sin(dphi)], [torch.sin(dphi) / model.omega, torch.cos(dphi) / model.omega]])\n",
    "multiplier"
   ],
   "id": "7bdf480e11955c47",
   "outputs": [
    {
     "data": {
      "text/plain": [
       "tensor([[ 0.9988,  0.0491],\n",
       "        [ 0.1155, -2.3495]])"
      ]
     },
     "execution_count": 12,
     "metadata": {},
     "output_type": "execute_result"
    }
   ],
   "execution_count": 12
  },
  {
   "metadata": {},
   "cell_type": "code",
   "outputs": [],
   "execution_count": null,
   "source": [
    "# x(t) = sin(omega t)\n",
    "# v(t) = omega * cos(omega t)\n",
    "\n",
    "# x(t + dt) = sin(omega t)cos(omega dt) + sin(omega dt) * cos(omega dt) = cos(omega dt) * x(t) + sin(omega dt) / omega * v(t)\n",
    "# v(t + dt) = cos(omega t)cos(omega dt) - sin(omega t)sin(omega dt) = "
   ],
   "id": "a83ec2917d919006"
  },
  {
   "metadata": {},
   "cell_type": "markdown",
   "source": "",
   "id": "f90afa080b88c66f"
  }
 ],
 "metadata": {
  "kernelspec": {
   "display_name": "Python 3",
   "language": "python",
   "name": "python3"
  },
  "language_info": {
   "codemirror_mode": {
    "name": "ipython",
    "version": 2
   },
   "file_extension": ".py",
   "mimetype": "text/x-python",
   "name": "python",
   "nbconvert_exporter": "python",
   "pygments_lexer": "ipython2",
   "version": "2.7.6"
  }
 },
 "nbformat": 4,
 "nbformat_minor": 5
}
